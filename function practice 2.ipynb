{
 "cells": [
  {
   "cell_type": "code",
   "execution_count": 29,
   "id": "2719e6ef-e502-4439-95bb-c80d52102bbd",
   "metadata": {},
   "outputs": [],
   "source": [
    "def test1(args):\n",
    "    return args"
   ]
  },
  {
   "cell_type": "code",
   "execution_count": 30,
   "id": "34568d60-9521-4cff-94a9-0e7a118e9d70",
   "metadata": {},
   "outputs": [
    {
     "data": {
      "text/plain": [
       "2"
      ]
     },
     "execution_count": 30,
     "metadata": {},
     "output_type": "execute_result"
    }
   ],
   "source": [
    "test1(2)"
   ]
  },
  {
   "cell_type": "code",
   "execution_count": 31,
   "id": "872ef871-f2f6-4a52-b35c-e9a0a008322c",
   "metadata": {},
   "outputs": [
    {
     "ename": "TypeError",
     "evalue": "test1() takes 1 positional argument but 3 were given",
     "output_type": "error",
     "traceback": [
      "\u001b[0;31m---------------------------------------------------------------------------\u001b[0m",
      "\u001b[0;31mTypeError\u001b[0m                                 Traceback (most recent call last)",
      "Cell \u001b[0;32mIn[31], line 1\u001b[0m\n\u001b[0;32m----> 1\u001b[0m \u001b[43mtest1\u001b[49m\u001b[43m(\u001b[49m\u001b[38;5;241;43m12345\u001b[39;49m\u001b[43m,\u001b[49m\u001b[38;5;124;43m\"\u001b[39;49m\u001b[38;5;124;43msydney\u001b[39;49m\u001b[38;5;124;43m\"\u001b[39;49m\u001b[43m,\u001b[49m\u001b[38;5;124;43m\"\u001b[39;49m\u001b[38;5;124;43mwatt\u001b[39;49m\u001b[38;5;124;43m\"\u001b[39;49m\u001b[43m)\u001b[49m\n",
      "\u001b[0;31mTypeError\u001b[0m: test1() takes 1 positional argument but 3 were given"
     ]
    }
   ],
   "source": [
    "test1(12345,\"sydney\",\"watt\")"
   ]
  },
  {
   "cell_type": "code",
   "execution_count": 32,
   "id": "44615e49-fc2b-4517-9aa5-f74f7a9c832b",
   "metadata": {},
   "outputs": [],
   "source": [
    "# if we want to take multiple characters inside the function we have to multiply args by * \n",
    "#output will be taken inside a tuple."
   ]
  },
  {
   "cell_type": "code",
   "execution_count": 35,
   "id": "22eb1149-f8db-433d-a722-21c2e54ed549",
   "metadata": {},
   "outputs": [],
   "source": [
    "def test2(* args):\n",
    "    return args"
   ]
  },
  {
   "cell_type": "code",
   "execution_count": null,
   "id": "3bd35f57-118c-45bb-94e8-ee15025c8436",
   "metadata": {},
   "outputs": [],
   "source": [
    "test2(12345,\"sydney\",\"watt\")"
   ]
  },
  {
   "cell_type": "code",
   "execution_count": 36,
   "id": "ca7d8f92-4edd-4dec-b042-019f15cba926",
   "metadata": {},
   "outputs": [],
   "source": [
    "def test3(*lad):\n",
    "    return lad"
   ]
  },
  {
   "cell_type": "code",
   "execution_count": 39,
   "id": "2c2c7a60-ab2a-4a96-b4ee-3f11985dc481",
   "metadata": {},
   "outputs": [
    {
     "data": {
      "text/plain": [
       "(1, 2, 3, 4, 5, 6, 7, 8, 8, 9, 9, 9, 9, 0, 0)"
      ]
     },
     "execution_count": 39,
     "metadata": {},
     "output_type": "execute_result"
    }
   ],
   "source": [
    "test3(1,2,3,4,5,6,7,8,8,9,9,9,9,0,0)"
   ]
  },
  {
   "cell_type": "code",
   "execution_count": 40,
   "id": "6d133131-0092-4d9c-a6ed-c3d3af538da4",
   "metadata": {},
   "outputs": [],
   "source": [
    "def test4(*args,a):\n",
    "    return args,a\n"
   ]
  },
  {
   "cell_type": "code",
   "execution_count": 45,
   "id": "1ca30ed4-a237-47c5-9367-c69b83994f63",
   "metadata": {},
   "outputs": [
    {
     "data": {
      "text/plain": [
       "(((1, 2, 3, 4, 5, 6, 7, 8, 9, 11, 12, 13, 1, 2, 1, 2, 1, 21, 2, 1, 2),),\n",
       " 'sudh')"
      ]
     },
     "execution_count": 45,
     "metadata": {},
     "output_type": "execute_result"
    }
   ],
   "source": [
    "test4((1,2,3,4,5,6,7,8,9,11,12,13,1,2,1,2,1,21,2,1,2),a=\"sudh\")"
   ]
  },
  {
   "cell_type": "code",
   "execution_count": 47,
   "id": "1bcb48ad-702b-4b1d-8b32-41a0dd4ad6cc",
   "metadata": {},
   "outputs": [],
   "source": [
    "def test5(*args):\n",
    "    l=[]\n",
    "    for i in args:\n",
    "        if type(i)==list:\n",
    "            l.append(i)\n",
    "            \n",
    "    return l"
   ]
  },
  {
   "cell_type": "code",
   "execution_count": 49,
   "id": "20db2a18-976f-4dcf-be1a-cf3c92d6af12",
   "metadata": {},
   "outputs": [
    {
     "data": {
      "text/plain": [
       "[[1, 2, 3, 4, 5, 6, 7, 8, 9, 0], [234, 213, 324, 45, 456, 23, 12]]"
      ]
     },
     "execution_count": 49,
     "metadata": {},
     "output_type": "execute_result"
    }
   ],
   "source": [
    "test5([1,2,3,4,5,6,7,8,9,0],\"sudh\",\"gav\",\"customer\",[234,213,324,45,456,23,12])"
   ]
  },
  {
   "cell_type": "code",
   "execution_count": null,
   "id": "b1fd3364-ac0f-42ba-8935-224afb0c56b0",
   "metadata": {},
   "outputs": [],
   "source": [
    "# the above function make list of list present in args."
   ]
  },
  {
   "cell_type": "code",
   "execution_count": 53,
   "id": "24e92fce-41ab-47c2-bee7-7d7ac3d0c75b",
   "metadata": {},
   "outputs": [],
   "source": [
    "def test6(**args):    #we u give ** u get dict as a output.\n",
    "    return args"
   ]
  },
  {
   "cell_type": "code",
   "execution_count": 54,
   "id": "55f340e6-f363-448d-aab0-c4f99ccab598",
   "metadata": {},
   "outputs": [
    {
     "data": {
      "text/plain": [
       "{}"
      ]
     },
     "execution_count": 54,
     "metadata": {},
     "output_type": "execute_result"
    }
   ],
   "source": [
    "test6()"
   ]
  },
  {
   "cell_type": "code",
   "execution_count": 55,
   "id": "1ca41d22-5d90-4285-a713-636702d2367b",
   "metadata": {},
   "outputs": [
    {
     "data": {
      "text/plain": [
       "{'a': 34, 'b': 23, 'c': [1, 2, 3, 4, 5], 'd': ('sudh', 'pwskills')}"
      ]
     },
     "execution_count": 55,
     "metadata": {},
     "output_type": "execute_result"
    }
   ],
   "source": [
    "test6(a=34,b=23,c=[1,2,3,4,5],d=(\"sudh\",\"pwskills\"))"
   ]
  },
  {
   "cell_type": "code",
   "execution_count": 58,
   "id": "3ab9bfe3-a799-4346-af2e-eb9a7487bb94",
   "metadata": {},
   "outputs": [],
   "source": [
    "def test(*args,**kwargs):\n",
    "    return args,kwargs"
   ]
  },
  {
   "cell_type": "code",
   "execution_count": 61,
   "id": "d5d44575-2ea4-4503-a42a-d6a742ee26bb",
   "metadata": {},
   "outputs": [
    {
     "data": {
      "text/plain": [
       "((1, 2, 3, 44, 5, 6, 45, 55, 53, 34, 234, 235432), {'a': 35, 'b': 55, 'c': 45})"
      ]
     },
     "execution_count": 61,
     "metadata": {},
     "output_type": "execute_result"
    }
   ],
   "source": [
    "test(1,2,3,44,5,6,45,55,53,34,234,235432,a=35,b=55,c=45)"
   ]
  },
  {
   "cell_type": "code",
   "execution_count": null,
   "id": "311bc023-a383-4fac-b8d5-c3f1d8e1eccf",
   "metadata": {},
   "outputs": [],
   "source": []
  }
 ],
 "metadata": {
  "kernelspec": {
   "display_name": "Python 3 (ipykernel)",
   "language": "python",
   "name": "python3"
  },
  "language_info": {
   "codemirror_mode": {
    "name": "ipython",
    "version": 3
   },
   "file_extension": ".py",
   "mimetype": "text/x-python",
   "name": "python",
   "nbconvert_exporter": "python",
   "pygments_lexer": "ipython3",
   "version": "3.10.8"
  }
 },
 "nbformat": 4,
 "nbformat_minor": 5
}
